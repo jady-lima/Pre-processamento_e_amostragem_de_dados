{
 "cells": [
  {
   "cell_type": "code",
   "execution_count": 1,
   "metadata": {},
   "outputs": [],
   "source": [
    "import numpy as np\n",
    "import pandas as pd"
   ]
  },
  {
   "cell_type": "code",
   "execution_count": 2,
   "metadata": {},
   "outputs": [],
   "source": [
    "dataset = pd.read_csv(\"data/Abalone.csv\")"
   ]
  },
  {
   "cell_type": "code",
   "execution_count": 3,
   "metadata": {},
   "outputs": [
    {
     "name": "stdout",
     "output_type": "stream",
     "text": [
      "<class 'pandas.core.frame.DataFrame'>\n",
      "RangeIndex: 4177 entries, 0 to 4176\n",
      "Data columns (total 9 columns):\n",
      " #   Column         Non-Null Count  Dtype  \n",
      "---  ------         --------------  -----  \n",
      " 0   sex            4177 non-null   object \n",
      " 1   length         4177 non-null   float64\n",
      " 2   diameter       4177 non-null   float64\n",
      " 3   height         4177 non-null   float64\n",
      " 4   wholeweight    4177 non-null   float64\n",
      " 5   shuckedweight  4177 non-null   float64\n",
      " 6   visceraweight  4177 non-null   float64\n",
      " 7   shellweight    4177 non-null   float64\n",
      " 8   class          4177 non-null   int64  \n",
      "dtypes: float64(7), int64(1), object(1)\n",
      "memory usage: 293.8+ KB\n"
     ]
    }
   ],
   "source": [
    "dataset.info()"
   ]
  },
  {
   "cell_type": "code",
   "execution_count": 5,
   "metadata": {},
   "outputs": [
    {
     "name": "stdout",
     "output_type": "stream",
     "text": [
      "length           0.523992\n",
      "diameter         0.407881\n",
      "height           0.139516\n",
      "wholeweight      0.828742\n",
      "shuckedweight    0.359367\n",
      "visceraweight    0.180594\n",
      "shellweight      0.238831\n",
      "dtype: float64\n"
     ]
    }
   ],
   "source": [
    "medias = dataset.iloc[:, 1:-1].mean()\n",
    "print(medias)"
   ]
  },
  {
   "cell_type": "code",
   "execution_count": 6,
   "metadata": {},
   "outputs": [
    {
     "name": "stdout",
     "output_type": "stream",
     "text": [
      "length           0.5450\n",
      "diameter         0.4250\n",
      "height           0.1400\n",
      "wholeweight      0.7995\n",
      "shuckedweight    0.3360\n",
      "visceraweight    0.1710\n",
      "shellweight      0.2340\n",
      "dtype: float64\n"
     ]
    }
   ],
   "source": [
    "mediana = dataset.iloc[:, 1:-1].median()\n",
    "print(mediana)"
   ]
  }
 ],
 "metadata": {
  "kernelspec": {
   "display_name": "python-study",
   "language": "python",
   "name": "python3"
  },
  "language_info": {
   "codemirror_mode": {
    "name": "ipython",
    "version": 3
   },
   "file_extension": ".py",
   "mimetype": "text/x-python",
   "name": "python",
   "nbconvert_exporter": "python",
   "pygments_lexer": "ipython3",
   "version": "3.9.19"
  }
 },
 "nbformat": 4,
 "nbformat_minor": 2
}
