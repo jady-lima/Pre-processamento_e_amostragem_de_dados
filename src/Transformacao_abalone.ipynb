{
 "cells": [
  {
   "cell_type": "code",
   "execution_count": 1,
   "metadata": {},
   "outputs": [],
   "source": [
    "import pandas as pd"
   ]
  },
  {
   "cell_type": "code",
   "execution_count": 2,
   "metadata": {},
   "outputs": [],
   "source": [
    "dataset = pd.read_csv(\"data/Abalone.csv\")"
   ]
  },
  {
   "cell_type": "code",
   "execution_count": 3,
   "metadata": {},
   "outputs": [
    {
     "name": "stdout",
     "output_type": "stream",
     "text": [
      "<class 'pandas.core.frame.DataFrame'>\n",
      "RangeIndex: 4177 entries, 0 to 4176\n",
      "Data columns (total 9 columns):\n",
      " #   Column         Non-Null Count  Dtype  \n",
      "---  ------         --------------  -----  \n",
      " 0   sex            4177 non-null   object \n",
      " 1   length         4177 non-null   float64\n",
      " 2   diameter       4177 non-null   float64\n",
      " 3   height         4177 non-null   float64\n",
      " 4   wholeweight    4177 non-null   float64\n",
      " 5   shuckedweight  4177 non-null   float64\n",
      " 6   visceraweight  4177 non-null   float64\n",
      " 7   shellweight    4177 non-null   float64\n",
      " 8   class          4177 non-null   int64  \n",
      "dtypes: float64(7), int64(1), object(1)\n",
      "memory usage: 293.8+ KB\n"
     ]
    }
   ],
   "source": [
    "# Mostre as características dos atributos\n",
    "dataset.info()"
   ]
  },
  {
   "cell_type": "code",
   "execution_count": 4,
   "metadata": {},
   "outputs": [
    {
     "name": "stdout",
     "output_type": "stream",
     "text": [
      "length           0.523992\n",
      "diameter         0.407881\n",
      "height           0.139516\n",
      "wholeweight      0.828742\n",
      "shuckedweight    0.359367\n",
      "visceraweight    0.180594\n",
      "shellweight      0.238831\n",
      "dtype: float64\n"
     ]
    }
   ],
   "source": [
    "# Mostre a média dos atributos (Excluindo o atributo classe)\n",
    "medias = dataset.iloc[:, 1:-1].mean()\n",
    "print(medias)"
   ]
  },
  {
   "cell_type": "code",
   "execution_count": 5,
   "metadata": {},
   "outputs": [
    {
     "name": "stdout",
     "output_type": "stream",
     "text": [
      "length           0.5450\n",
      "diameter         0.4250\n",
      "height           0.1400\n",
      "wholeweight      0.7995\n",
      "shuckedweight    0.3360\n",
      "visceraweight    0.1710\n",
      "shellweight      0.2340\n",
      "dtype: float64\n"
     ]
    }
   ],
   "source": [
    "# Mostre a mediana dos atributos (excluindo o atributo classe)\n",
    "mediana = dataset.iloc[:, 1:-1].median()\n",
    "print(mediana)"
   ]
  },
  {
   "cell_type": "code",
   "execution_count": 6,
   "metadata": {},
   "outputs": [
    {
     "name": "stdout",
     "output_type": "stream",
     "text": [
      "sex              0\n",
      "length           0\n",
      "diameter         0\n",
      "height           0\n",
      "wholeweight      0\n",
      "shuckedweight    0\n",
      "visceraweight    0\n",
      "shellweight      0\n",
      "class            0\n",
      "dtype: int64\n"
     ]
    }
   ],
   "source": [
    "# Verifique se há missing values\n",
    "missing = dataset.isnull().sum()\n",
    "print(missing)"
   ]
  },
  {
   "cell_type": "code",
   "execution_count": 7,
   "metadata": {},
   "outputs": [
    {
     "name": "stdout",
     "output_type": "stream",
     "text": [
      "   length  diameter  height  wholeweight  shuckedweight  visceraweight  \\\n",
      "0   0.455     0.365   0.095       0.5140         0.2245         0.1010   \n",
      "1   0.350     0.265   0.090       0.2255         0.0995         0.0485   \n",
      "2   0.530     0.420   0.135       0.6770         0.2565         0.1415   \n",
      "3   0.440     0.365   0.125       0.5160         0.2155         0.1140   \n",
      "4   0.330     0.255   0.080       0.2050         0.0895         0.0395   \n",
      "\n",
      "   shellweight  class      F      I      M  \n",
      "0        0.150     15  False  False   True  \n",
      "1        0.070      7  False  False   True  \n",
      "2        0.210      9   True  False  False  \n",
      "3        0.155     10  False  False   True  \n",
      "4        0.055      7  False   True  False  \n"
     ]
    }
   ],
   "source": [
    "# Transformação de dados categórico para discreto\n",
    "categoricoToBinary = pd.get_dummies(dataset[\"sex\"])\n",
    "\n",
    "dataset.drop(\"sex\", inplace=True, axis=1)\n",
    "\n",
    "dados = dataset.join(categoricoToBinary)\n",
    "\n",
    "print(dados.head())"
   ]
  },
  {
   "cell_type": "code",
   "execution_count": 8,
   "metadata": {},
   "outputs": [
    {
     "name": "stdout",
     "output_type": "stream",
     "text": [
      "<class 'pandas.core.frame.DataFrame'>\n",
      "RangeIndex: 4177 entries, 0 to 4176\n",
      "Data columns (total 11 columns):\n",
      " #   Column         Non-Null Count  Dtype  \n",
      "---  ------         --------------  -----  \n",
      " 0   length         4177 non-null   float64\n",
      " 1   diameter       4177 non-null   float64\n",
      " 2   height         4177 non-null   float64\n",
      " 3   wholeweight    4177 non-null   float64\n",
      " 4   shuckedweight  4177 non-null   float64\n",
      " 5   visceraweight  4177 non-null   float64\n",
      " 6   shellweight    4177 non-null   float64\n",
      " 7   class          4177 non-null   int64  \n",
      " 8   F              4177 non-null   bool   \n",
      " 9   I              4177 non-null   bool   \n",
      " 10  M              4177 non-null   bool   \n",
      "dtypes: bool(3), float64(7), int64(1)\n",
      "memory usage: 273.4 KB\n"
     ]
    }
   ],
   "source": [
    "# Imprime as informações dos dados após transformados\n",
    "dados.info()"
   ]
  },
  {
   "cell_type": "code",
   "execution_count": 9,
   "metadata": {},
   "outputs": [],
   "source": [
    "# Salva os dados trasnformados em um CSV\n",
    "df = pd.DataFrame(dados)\n",
    "df.to_csv(\"data/Abalone_final.csv\", index=False)"
   ]
  }
 ],
 "metadata": {
  "kernelspec": {
   "display_name": "python-study",
   "language": "python",
   "name": "python3"
  },
  "language_info": {
   "codemirror_mode": {
    "name": "ipython",
    "version": 3
   },
   "file_extension": ".py",
   "mimetype": "text/x-python",
   "name": "python",
   "nbconvert_exporter": "python",
   "pygments_lexer": "ipython3",
   "version": "3.9.19"
  }
 },
 "nbformat": 4,
 "nbformat_minor": 2
}
