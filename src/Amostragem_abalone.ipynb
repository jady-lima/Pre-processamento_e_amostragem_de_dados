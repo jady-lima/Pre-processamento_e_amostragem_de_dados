{
 "cells": [
  {
   "cell_type": "code",
   "execution_count": 10,
   "metadata": {},
   "outputs": [],
   "source": [
    "import pandas as pd\n",
    "dataset = pd.read_csv(\"data/Abalone_final.csv\")"
   ]
  },
  {
   "cell_type": "code",
   "execution_count": 11,
   "metadata": {},
   "outputs": [
    {
     "name": "stdout",
     "output_type": "stream",
     "text": [
      "<class 'pandas.core.frame.DataFrame'>\n",
      "RangeIndex: 4177 entries, 0 to 4176\n",
      "Data columns (total 11 columns):\n",
      " #   Column         Non-Null Count  Dtype  \n",
      "---  ------         --------------  -----  \n",
      " 0   length         4177 non-null   float64\n",
      " 1   diameter       4177 non-null   float64\n",
      " 2   height         4177 non-null   float64\n",
      " 3   wholeweight    4177 non-null   float64\n",
      " 4   shuckedweight  4177 non-null   float64\n",
      " 5   visceraweight  4177 non-null   float64\n",
      " 6   shellweight    4177 non-null   float64\n",
      " 7   class          4177 non-null   int64  \n",
      " 8   F              4177 non-null   bool   \n",
      " 9   I              4177 non-null   bool   \n",
      " 10  M              4177 non-null   bool   \n",
      "dtypes: bool(3), float64(7), int64(1)\n",
      "memory usage: 273.4 KB\n"
     ]
    }
   ],
   "source": [
    "dataset.info()"
   ]
  },
  {
   "cell_type": "code",
   "execution_count": 12,
   "metadata": {},
   "outputs": [
    {
     "name": "stdout",
     "output_type": "stream",
     "text": [
      "      length  diameter  height  wholeweight  shuckedweight  visceraweight  \\\n",
      "3816   0.460     0.370   0.110       0.3965         0.1485         0.0855   \n",
      "9      0.550     0.440   0.150       0.8945         0.3145         0.1510   \n",
      "2532   0.615     0.475   0.190       1.4335         0.7315         0.3050   \n",
      "1853   0.650     0.500   0.185       1.4415         0.7410         0.2955   \n",
      "3365   0.295     0.215   0.070       0.1210         0.0470         0.0155   \n",
      "...      ...       ...     ...          ...            ...            ...   \n",
      "4063   0.650     0.495   0.175       1.2270         0.5280         0.2580   \n",
      "3350   0.520     0.400   0.125       0.5590         0.2540         0.1390   \n",
      "3971   0.660     0.500   0.175       1.3275         0.5560         0.2805   \n",
      "3726   0.385     0.285   0.085       0.2440         0.1215         0.0445   \n",
      "2399   0.490     0.370   0.105       0.5265         0.2490         0.1005   \n",
      "\n",
      "      shellweight  class      F      I      M  \n",
      "3816       0.1455      8  False   True  False  \n",
      "9          0.3200     19   True  False  False  \n",
      "2532       0.3285      9  False  False   True  \n",
      "1853       0.3410      9   True  False  False  \n",
      "3365       0.0405      6  False   True  False  \n",
      "...           ...    ...    ...    ...    ...  \n",
      "4063       0.3700     11   True  False  False  \n",
      "3350       0.1490      8  False  False   True  \n",
      "3971       0.4085      9   True  False  False  \n",
      "3726       0.0680      8  False   True  False  \n",
      "2399       0.1480      7   True  False  False  \n",
      "\n",
      "[1253 rows x 11 columns]\n"
     ]
    }
   ],
   "source": [
    "#Amostragem simples de 30% e sem reposição\n",
    "amostra01 = dataset.sample(frac = .30, replace = False)\n",
    "\n",
    "print(amostra01)\n",
    "\n",
    "# salvando em csv\n",
    "amostra01.to_csv('data/amostra_simples_sem_reposicao_30.csv', index=False, encoding=\"utf-8\")"
   ]
  },
  {
   "cell_type": "code",
   "execution_count": 13,
   "metadata": {},
   "outputs": [
    {
     "name": "stdout",
     "output_type": "stream",
     "text": [
      "      length  diameter  height  wholeweight  shuckedweight  visceraweight  \\\n",
      "759    0.450     0.365   0.125       0.4620         0.2135         0.0985   \n",
      "3696   0.475     0.375   0.115       0.5205         0.2330         0.1190   \n",
      "811    0.605     0.480   0.170       1.1835         0.5820         0.2365   \n",
      "1828   0.540     0.435   0.140       0.7345         0.3300         0.1595   \n",
      "1324   0.505     0.405   0.130       0.5990         0.2245         0.1175   \n",
      "...      ...       ...     ...          ...            ...            ...   \n",
      "611    0.615     0.510   0.150       1.2960         0.5450         0.3315   \n",
      "875    0.400     0.290   0.100       0.2675         0.1205         0.0605   \n",
      "381    0.500     0.375   0.140       0.6040         0.2420         0.1415   \n",
      "1278   0.545     0.415   0.200       1.3580         0.5670         0.3180   \n",
      "3335   0.660     0.495   0.210       1.5480         0.7240         0.3525   \n",
      "\n",
      "      shellweight  class      F      I      M  \n",
      "759        0.1315      8  False   True  False  \n",
      "3696       0.1455      7  False   True  False  \n",
      "811        0.3170     10  False  False   True  \n",
      "1828       0.2130      9  False  False   True  \n",
      "1324       0.2250     11  False   True  False  \n",
      "...           ...    ...    ...    ...    ...  \n",
      "611        0.3200      9  False  False   True  \n",
      "875        0.0765      5  False   True  False  \n",
      "381        0.1790     15   True  False  False  \n",
      "1278       0.4030     10   True  False  False  \n",
      "3335       0.3925     10   True  False  False  \n",
      "\n",
      "[1253 rows x 11 columns]\n"
     ]
    }
   ],
   "source": [
    "#Amostragem simples de 30% e com reposição\n",
    "amostra02 = dataset.sample(frac = .30, replace = True)\n",
    "\n",
    "print(amostra02)\n",
    "\n",
    "# salvando em csv\n",
    "amostra02.to_csv('data/amostra_simples_com_reposicao_30.csv', index=False, encoding=\"utf-8\")"
   ]
  },
  {
   "cell_type": "code",
   "execution_count": 14,
   "metadata": {},
   "outputs": [
    {
     "name": "stdout",
     "output_type": "stream",
     "text": [
      "      length  diameter  height  wholeweight  shuckedweight  visceraweight  \\\n",
      "3590   0.470     0.375   0.130       0.5795         0.2145         0.1640   \n",
      "1076   0.660     0.505   0.165       1.3740         0.5890         0.3510   \n",
      "150    0.550     0.405   0.140       0.8025         0.2440         0.1635   \n",
      "1180   0.600     0.470   0.160       1.1940         0.5625         0.3045   \n",
      "2736   0.615     0.460   0.190       1.0660         0.4335         0.2260   \n",
      "...      ...       ...     ...          ...            ...            ...   \n",
      "2552   0.475     0.335   0.100       0.4425         0.1895         0.0860   \n",
      "316    0.565     0.435   0.185       0.9815         0.3290         0.1360   \n",
      "3628   0.505     0.380   0.145       0.6510         0.2935         0.1900   \n",
      "2459   0.625     0.495   0.180       1.0815         0.4715         0.2540   \n",
      "1598   0.645     0.500   0.200       1.4285         0.6390         0.3050   \n",
      "\n",
      "      shellweight  class      F      I      M  \n",
      "3590       0.1950     13  False  False   True  \n",
      "1076       0.3450     10  False  False   True  \n",
      "150        0.2550     10  False  False   True  \n",
      "1180       0.2635     10  False  False   True  \n",
      "2736       0.3300     13  False   True  False  \n",
      "...           ...    ...    ...    ...    ...  \n",
      "2552       0.1350      9  False   True  False  \n",
      "316        0.3900     13  False  False   True  \n",
      "3628       0.1700     12   True  False  False  \n",
      "2459       0.3135     10  False  False   True  \n",
      "1598       0.3600     11   True  False  False  \n",
      "\n",
      "[2088 rows x 11 columns]\n"
     ]
    }
   ],
   "source": [
    "# Amostragem simples de 50% e sem reposição\n",
    "amostra03 = dataset.sample(frac = .50, replace = False)\n",
    "\n",
    "print(amostra03)\n",
    "\n",
    "# salvando em csv\n",
    "amostra03.to_csv('data/amostra_simples_sem_reposicao_50.csv', index=False, encoding=\"utf-8\")"
   ]
  },
  {
   "cell_type": "code",
   "execution_count": 15,
   "metadata": {},
   "outputs": [
    {
     "name": "stdout",
     "output_type": "stream",
     "text": [
      "      length  diameter  height  wholeweight  shuckedweight  visceraweight  \\\n",
      "1851   0.645     0.490   0.160       1.2510         0.5355         0.3345   \n",
      "781    0.535     0.390   0.125       0.5990         0.2595         0.1490   \n",
      "3162   0.550     0.415   0.175       1.0420         0.3295         0.2325   \n",
      "902    0.500     0.410   0.140       0.6615         0.2585         0.1625   \n",
      "2419   0.525     0.440   0.125       0.7115         0.3205         0.1590   \n",
      "...      ...       ...     ...          ...            ...            ...   \n",
      "330    0.255     0.195   0.070       0.0735         0.0255         0.0200   \n",
      "2462   0.645     0.520   0.175       1.3345         0.6670         0.2665   \n",
      "1431   0.530     0.430   0.150       0.7410         0.3250         0.1855   \n",
      "3428   0.465     0.360   0.115       0.5795         0.2950         0.1395   \n",
      "1322   0.495     0.380   0.145       0.5000         0.2050         0.1480   \n",
      "\n",
      "      shellweight  class      F      I      M  \n",
      "1851       0.3165      9  False  False   True  \n",
      "781        0.1690      9  False   True  False  \n",
      "3162       0.2905     15  False  False   True  \n",
      "902        0.1960      9  False   True  False  \n",
      "2419       0.1915      7   True  False  False  \n",
      "...           ...    ...    ...    ...    ...  \n",
      "330        0.0250      6  False   True  False  \n",
      "2462       0.3550     10   True  False  False  \n",
      "1431       0.1960      9   True  False  False  \n",
      "3428       0.1200      7  False  False   True  \n",
      "1322       0.1505      8  False   True  False  \n",
      "\n",
      "[2088 rows x 11 columns]\n"
     ]
    }
   ],
   "source": [
    "# Amostragem simples de 50% e com reposição\n",
    "amostra04 = dataset.sample(frac = .50, replace = True)\n",
    "\n",
    "print(amostra04)\n",
    "\n",
    "# salvando em csv\n",
    "amostra04.to_csv('data/amostra_simples_com_reposicao_50.csv', index=False, encoding=\"utf-8\")"
   ]
  },
  {
   "cell_type": "code",
   "execution_count": 18,
   "metadata": {},
   "outputs": [
    {
     "name": "stdout",
     "output_type": "stream",
     "text": [
      "      length  diameter  height  wholeweight  shuckedweight  visceraweight  \\\n",
      "2709   0.670     0.545   0.160       1.5415         0.5985         0.2565   \n",
      "3154   0.570     0.430   0.120       1.0615         0.3480         0.1670   \n",
      "3654   0.495     0.400   0.140       0.7775         0.2015         0.1800   \n",
      "17     0.605     0.475   0.180       0.9365         0.3940         0.2190   \n",
      "529    0.585     0.405   0.150       1.2565         0.4350         0.2020   \n",
      "...      ...       ...     ...          ...            ...            ...   \n",
      "355    0.620     0.520   0.225       1.1835         0.3780         0.2700   \n",
      "3600   0.610     0.490   0.150       1.1030         0.4250         0.2025   \n",
      "471    0.490     0.385   0.150       0.7865         0.2410         0.1400   \n",
      "1492   0.665     0.535   0.225       2.1835         0.7535         0.3910   \n",
      "2221   0.700     0.540   0.215       1.9780         0.6675         0.3125   \n",
      "\n",
      "      shellweight  class      F      I      M  \n",
      "2709        0.495     15   True  False  False  \n",
      "3154        0.310     15  False  False   True  \n",
      "3654        0.250     15  False  False   True  \n",
      "17          0.295     15  False  False   True  \n",
      "529         0.325     15  False  False   True  \n",
      "...           ...    ...    ...    ...    ...  \n",
      "355         0.395     23   True  False  False  \n",
      "3600        0.360     23  False  False   True  \n",
      "471         0.240     23   True  False  False  \n",
      "1492        0.885     27  False  False   True  \n",
      "2221        0.710     24   True  False  False  \n",
      "\n",
      "[2080 rows x 11 columns]\n"
     ]
    }
   ],
   "source": [
    "#Amostragem estratificada de 50% (mesmas proporções)\n",
    "tamanho_amostra = 0.5\n",
    "classes = dataset['class'].unique()\n",
    "amostras_por_classes = []\n",
    "\n",
    "for c in classes:\n",
    "    selecao_classe_atual = dataset.loc[dataset['class'] == c]\n",
    "    quantidade_por_classe = int(len(selecao_classe_atual) * tamanho_amostra)\n",
    "    amostra_c = selecao_classe_atual.sample(n = quantidade_por_classe)\n",
    "    amostras_por_classes.append(amostra_c)\n",
    "\n",
    "amostra_estratificada01 = pd.concat(amostras_por_classes)\n",
    "print(amostra_estratificada01)\n",
    "\n",
    "amostra_estratificada01.to_csv('data/amostra_estratificada_50.csv', index=False, encoding=\"utf-8\")"
   ]
  },
  {
   "cell_type": "code",
   "execution_count": 19,
   "metadata": {},
   "outputs": [
    {
     "name": "stdout",
     "output_type": "stream",
     "text": [
      "      length  diameter  height  wholeweight  shuckedweight  visceraweight  \\\n",
      "3736   0.515     0.395   0.135       0.5160         0.2015         0.1320   \n",
      "3520   0.320     0.255   0.085       0.1745         0.0720         0.0330   \n",
      "2700   0.525     0.395   0.165       0.7820         0.2850         0.1405   \n",
      "688    0.570     0.455   0.150       1.1070         0.5400         0.2550   \n",
      "2037   0.520     0.465   0.150       0.9505         0.4560         0.1990   \n",
      "...      ...       ...     ...          ...            ...            ...   \n",
      "887    0.455     0.330   0.100       0.3720         0.3580         0.0775   \n",
      "2081   0.650     0.520   0.195       1.6760         0.6930         0.4400   \n",
      "160    0.580     0.465   0.165       1.1015         0.4040         0.2095   \n",
      "3399   0.575     0.440   0.160       0.9615         0.4830         0.1660   \n",
      "2361   0.410     0.300   0.100       0.3010         0.1240         0.0690   \n",
      "\n",
      "      shellweight  class      F      I      M  \n",
      "3736        0.162      9   True  False  False  \n",
      "3520        0.057      8  False   True  False  \n",
      "2700        0.285     19  False  False   True  \n",
      "688         0.270      8   True  False  False  \n",
      "2037        0.255      8  False  False   True  \n",
      "...           ...    ...    ...    ...    ...  \n",
      "887         0.110      8  False   True  False  \n",
      "2081        0.470     15  False  False   True  \n",
      "160         0.350     11   True  False  False  \n",
      "3399        0.275     13  False  False   True  \n",
      "2361        0.090      9  False  False   True  \n",
      "\n",
      "[2924 rows x 11 columns]\n"
     ]
    }
   ],
   "source": [
    "#Amostragem simples de 70% e sem reposição\n",
    "amostra05 = dataset.sample(frac = .70, replace = False)\n",
    "\n",
    "print(amostra05)\n",
    "\n",
    "# salvando em csv\n",
    "amostra05.to_csv('data/amostra_simples_sem_reposicao_70.csv', index=False, encoding=\"utf-8\")"
   ]
  },
  {
   "cell_type": "code",
   "execution_count": 20,
   "metadata": {},
   "outputs": [
    {
     "name": "stdout",
     "output_type": "stream",
     "text": [
      "      length  diameter  height  wholeweight  shuckedweight  visceraweight  \\\n",
      "1748   0.510     0.415   0.140       0.8185         0.3025         0.2155   \n",
      "39     0.470     0.360   0.120       0.4775         0.2105         0.1055   \n",
      "1362   0.610     0.480   0.140       1.0310         0.4375         0.2615   \n",
      "729    0.660     0.475   0.180       1.3695         0.6410         0.2940   \n",
      "3017   0.385     0.310   0.100       0.2845         0.1065         0.0750   \n",
      "...      ...       ...     ...          ...            ...            ...   \n",
      "3972   0.700     0.560   0.175       1.6605         0.8605         0.3275   \n",
      "2044   0.550     0.425   0.130       0.6640         0.2695         0.1630   \n",
      "3382   0.500     0.400   0.120       0.6160         0.2610         0.1430   \n",
      "2329   0.620     0.485   0.165       1.1660         0.4830         0.2380   \n",
      "3964   0.470     0.355   0.145       0.4485         0.1560         0.1020   \n",
      "\n",
      "      shellweight  class      F      I      M  \n",
      "1748       0.2350     16  False  False   True  \n",
      "39         0.1500     10   True  False  False  \n",
      "1362       0.2700      8  False  False   True  \n",
      "729        0.3350      6   True  False  False  \n",
      "3017       0.1000     11  False  False   True  \n",
      "...           ...    ...    ...    ...    ...  \n",
      "3972       0.3980     11   True  False  False  \n",
      "2044       0.2100      8  False   True  False  \n",
      "3382       0.1935      8  False   True  False  \n",
      "2329       0.3550     13   True  False  False  \n",
      "3964       0.1230      7  False   True  False  \n",
      "\n",
      "[2924 rows x 11 columns]\n"
     ]
    }
   ],
   "source": [
    "#Amostragem simples de 70% e sem reposição\n",
    "amostra06 = dataset.sample(frac = .70, replace = True)\n",
    "\n",
    "print(amostra06)\n",
    "\n",
    "# salvando em csv\n",
    "amostra06.to_csv('data/amostra_simples_com_reposicao_70.csv', index=False, encoding=\"utf-8\")"
   ]
  },
  {
   "cell_type": "code",
   "execution_count": 21,
   "metadata": {},
   "outputs": [
    {
     "name": "stdout",
     "output_type": "stream",
     "text": [
      "      length  diameter  height  wholeweight  shuckedweight  visceraweight  \\\n",
      "2355   0.520     0.405   0.145       0.8290         0.3535         0.1685   \n",
      "346    0.625     0.515   0.150       1.2415         0.5235         0.3065   \n",
      "2241   0.505     0.410   0.135       0.6570         0.2910         0.1330   \n",
      "543    0.470     0.360   0.145       0.5370         0.1725         0.1375   \n",
      "1655   0.590     0.460   0.155       0.9060         0.3270         0.1485   \n",
      "...      ...       ...     ...          ...            ...            ...   \n",
      "220    0.620     0.470   0.200       1.2255         0.3810         0.2700   \n",
      "1725   0.515     0.400   0.160       0.8175         0.2515         0.1560   \n",
      "475    0.450     0.380   0.165       0.8165         0.2500         0.1915   \n",
      "1567   0.550     0.465   0.180       1.2125         0.3245         0.2050   \n",
      "2221   0.700     0.540   0.215       1.9780         0.6675         0.3125   \n",
      "\n",
      "      shellweight  class      F      I      M  \n",
      "2355        0.205     15   True  False  False  \n",
      "346         0.360     15   True  False  False  \n",
      "2241        0.195     15   True  False  False  \n",
      "543         0.195     15   True  False  False  \n",
      "1655        0.335     15  False  False   True  \n",
      "...           ...    ...    ...    ...    ...  \n",
      "220         0.435     23   True  False  False  \n",
      "1725        0.300     23  False  False   True  \n",
      "475         0.265     23   True  False  False  \n",
      "1567        0.525     27   True  False  False  \n",
      "2221        0.710     24   True  False  False  \n",
      "\n",
      "[2909 rows x 11 columns]\n"
     ]
    }
   ],
   "source": [
    "#Amostragem estratificada de 70% (mesmas proporções)\n",
    "tamanho_amostra = 0.7\n",
    "classes = dataset['class'].unique()\n",
    "amostras_por_classes = []\n",
    "\n",
    "for c in classes:\n",
    "    selecao_classe_atual = dataset.loc[dataset['class'] == c]\n",
    "    quantidade_por_classe = int(len(selecao_classe_atual) * tamanho_amostra)\n",
    "    amostra_c = selecao_classe_atual.sample(n = quantidade_por_classe)\n",
    "    amostras_por_classes.append(amostra_c)\n",
    "\n",
    "amostra_estratificada02 = pd.concat(amostras_por_classes)\n",
    "print(amostra_estratificada02)\n",
    "\n",
    "amostra_estratificada02.to_csv('data/amostra_estratificada_70.csv', index=False, encoding=\"utf-8\")"
   ]
  }
 ],
 "metadata": {
  "kernelspec": {
   "display_name": "python-study",
   "language": "python",
   "name": "python3"
  },
  "language_info": {
   "codemirror_mode": {
    "name": "ipython",
    "version": 3
   },
   "file_extension": ".py",
   "mimetype": "text/x-python",
   "name": "python",
   "nbconvert_exporter": "python",
   "pygments_lexer": "ipython3",
   "version": "3.9.19"
  }
 },
 "nbformat": 4,
 "nbformat_minor": 2
}
